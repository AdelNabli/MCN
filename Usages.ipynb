{
 "cells": [
  {
   "cell_type": "markdown",
   "metadata": {},
   "source": [
    "<div style=\"text-align: center; font-size: 25pt; font-weight: bold; margin: 1em 0em 1em 0em\">Usages of the MCN package</div>\n",
    "\n",
    "**Author:** Adel Nabli"
   ]
  },
  {
   "cell_type": "markdown",
   "metadata": {},
   "source": [
    "# Introduction: The Multilevel Critical Node problem"
   ]
  },
  {
   "cell_type": "markdown",
   "metadata": {},
   "source": [
    "We have a graph $G(V,E)$ and we want to solve a multilevel critical node problem as introduced in [1]. We use the following variables:\n",
    "* $D \\subset V$: set of vaccinated nodes $\\quad ; \\quad$ $z_v = \\mathbb{1}_{\\text{v is vaccinated}}$ $\\quad ; \\quad$ $\\sum_{v \\in V} z_v \\leq \\Omega$\n",
    "* $P \\subset V$: set of protected nodes $\\quad ; \\quad$ $x_v = \\mathbb{1}_{\\text{v is protected}}$ $\\quad ; \\quad$ $\\sum_{v \\in V} x_v \\leq \\Lambda$\n",
    "* $I \\subset V$: set of attacked nodes $\\quad ; \\quad$ $y_v = \\mathbb{1}_{\\text{v is attacked}}$ $\\quad ; \\quad$ $\\sum_{v \\in V} y_v \\leq \\Phi$\n",
    "* $S \\subset V$: set of saved nodes $\\quad ; \\quad$ $\\alpha_v = \\mathbb{1}_{\\text{v is saved}}$\n",
    "\n",
    "We want to solve the following trilevel problem:\n",
    "<h3 align=\"center\"> $ \\underset{ \\substack{z \\in \\{0,1\\}^V \\\\ \\sum_{v \\in V} z_v \\leq \\Omega}}{\\max} \\underset{ \\substack{y \\in \\{0,1\\}^V \\\\ \\sum_{v \\in V} y_v \\leq \\Phi}}{\\min} \\underset{ \\substack{x \\in \\{0,1\\}^V \\\\ \\alpha \\in [0,1]^V}}{\\max} \\sum_{v \\in V} \\alpha_v  \\\\ \\quad \\quad  \\quad \\quad \\text{subject to} \\quad \\sum_{v \\in V} x_v \\leq \\Lambda \\\\ \\quad  \\quad \\quad  \\quad \\quad \\quad \\quad \\quad \\quad \\alpha_v \\leq 1+ z_v - y_v \\quad \\forall v \\in V \\\\ \\quad  \\quad \\quad  \\quad \\quad \\quad \\quad \\quad \\quad \\alpha_v \\leq \\alpha_u + x_v + z_v \\quad \\forall (u,v) \\in E$</h3>\n",
    "\n",
    "**Sources:**\n",
    "\n",
    "[1] **A. Baggio, M. Carvalho, A. Lodi, A. Tramontani**, [\"Multilevel Approaches for the Critical Node Problem\"]( http://cerc-datascience.polymtl.ca/wp-content/uploads/2017/11/Technical-Report_DS4DM-2017-012.pdf), 2018."
   ]
  },
  {
   "cell_type": "markdown",
   "metadata": {},
   "source": [
    "# [OPTIONAL] Google colab: installing packages"
   ]
  },
  {
   "cell_type": "markdown",
   "metadata": {},
   "source": [
    "If this notebook is to be run on google colab, some extra steps should be taken to properly install pytorch geometric.\n",
    "Replace ```${CUDA}``` and ```${TORCH}``` with the versions on the PyTorch installation you use as explained in the [pytorch geometric documentation](https://pytorch-geometric.readthedocs.io/en/latest/notes/installation.html)"
   ]
  },
  {
   "cell_type": "code",
   "execution_count": null,
   "metadata": {},
   "outputs": [],
   "source": [
    "!pip install torch-scatter==latest+${CUDA} -f https://pytorch-geometric.com/whl/torch-${TORCH}.html\n",
    "!pip install torch-sparse==latest+${CUDA} -f https://pytorch-geometric.com/whl/torch-${TORCH}.html\n",
    "!pip install torch-cluster==latest+${CUDA} -f https://pytorch-geometric.com/whl/torch-${TORCH}.html\n",
    "!pip install torch-spline-conv==latest+${CUDA} -f https://pytorch-geometric.com/whl/torch-${TORCH}.html\n",
    "!pip install torch-geometric\n",
    "!pip install --upgrade git+https://github.com/AdelNabli/MCN"
   ]
  },
  {
   "cell_type": "markdown",
   "metadata": {},
   "source": [
    "# 1. Training the neural network to solve the MCN"
   ]
  },
  {
   "cell_type": "code",
   "execution_count": null,
   "metadata": {},
   "outputs": [],
   "source": [
    "# Import the training function\n",
    "from MCN.MCN_heur.train_cur import train_value_net\n",
    "import os"
   ]
  },
  {
   "cell_type": "markdown",
   "metadata": {},
   "source": [
    "### a) setting the variables governing the distribution of instances"
   ]
  },
  {
   "cell_type": "markdown",
   "metadata": {},
   "source": [
    "As described in our paper, we considered two distributions of instances $\\mathbb{D}^{(1)}$ and $\\mathbb{D}^{(2)}$ in our experiments. In this notebook, we provide the settings for $\\mathbb{D}^{(1)}$. Moreover, we will consider the *basic* case, i.e., our graphs will be unitary and undirected."
   ]
  },
  {
   "cell_type": "code",
   "execution_count": 2,
   "metadata": {},
   "outputs": [],
   "source": [
    "# n_free designs the number of nodes of the graph\n",
    "# that would be neither vaccinated, infected or attacked.\n",
    "# It governs the range of graph's sizes we are considering\n",
    "n_free_min = 9\n",
    "n_free_max = 14\n",
    "# d_edge controls the density of edge we want the instances\n",
    "# to have. d_edge = 1. means that all possible edges are created\n",
    "# i.e, we have a clique\n",
    "d_edge_min = 0.1\n",
    "d_edge_max = 0.2\n",
    "# Omega, Phi and Lambda are the budgets of the players\n",
    "# Phi_max should be >= 1, otherwise there is no MCN problem\n",
    "Omega_max = 3\n",
    "Phi_max = 3\n",
    "Lambda_max = 3\n",
    "# n_max is the size of largest graph possible to encounter in the distribution of instances\n",
    "n_max = n_free_max + Omega_max + Phi_max + Lambda_max\n",
    "# weighted and directed are two boleans governing\n",
    "# whether or not we work on weighted or directed graphs.\n",
    "weighted = False\n",
    "directed = False\n",
    "# if weighted, we need to cap the maximum weights considered w_max.\n",
    "# the weights of the nodes will then be integers in [1, w_max]\n",
    "w_max = 5"
   ]
  },
  {
   "cell_type": "markdown",
   "metadata": {},
   "source": [
    "### b) setting the hyperparameters of the neural network"
   ]
  },
  {
   "cell_type": "code",
   "execution_count": 3,
   "metadata": {},
   "outputs": [],
   "source": [
    "# parameters of the neural networks used\n",
    "dim_embedding = 200\n",
    "dim_values = 100\n",
    "dim_hidden = 400\n",
    "# the number of attention heads in the GAT\n",
    "n_heads = 3\n",
    "# the number of attention layer used to create the node representations\n",
    "n_att_layers = 7\n",
    "# the number of different pooling stacked to create the graph embedding\n",
    "n_pool = 3\n",
    "# the dropout probability\n",
    "p = 0.2\n",
    "# the 'skip connection' parameter in the APPNP part\n",
    "alpha = 0.2\n",
    "\n",
    "# parameters of the optimizer used\n",
    "lr = 1.3e-4\n",
    "betas = (0.8, 0.98)"
   ]
  },
  {
   "cell_type": "markdown",
   "metadata": {},
   "source": [
    "### c) setting the parameters of the training algorithm"
   ]
  },
  {
   "cell_type": "code",
   "execution_count": 4,
   "metadata": {},
   "outputs": [],
   "source": [
    "# batch size used\n",
    "batch_size = 256\n",
    "# Size of each training set\n",
    "size_train_data = 50000\n",
    "# Size of each validation set\n",
    "size_val_data = 1000\n",
    "# Size of each test set\n",
    "size_test_data = 1000\n",
    "# number of epochs at each stage of the curriculum\n",
    "n_epoch = 60\n",
    "# whether or not to use an exact algorithm\n",
    "# to solve protection problems\n",
    "exact_protection = False\n",
    "# the number of optimization steps before\n",
    "# checking on the validation set\n",
    "update_experts = 20\n",
    "# the size of the batch when generating the training sets\n",
    "batch_unroll = 128\n",
    "# path where to find the test_data.\n",
    "# If the path is None, a test set is generated, which necessitates cplex.\n",
    "folder_name = 'test_data'\n",
    "path_test_data = os.path.join('data', folder_name)\n",
    "# path to the directory to pre-trained target nets\n",
    "path_experts = None\n",
    "# path to the directory containing the training and validation data\n",
    "# to use if re-start the training\n",
    "path_data = 'data'\n",
    "# If resume training, set to True\n",
    "resume_training = False\n",
    "# path to the file containing the training parameters to load\n",
    "path_train = \"\" #\"models/value_net.tar\""
   ]
  },
  {
   "cell_type": "code",
   "execution_count": null,
   "metadata": {},
   "outputs": [],
   "source": [
    "# Train the neural network\n",
    "train_value_net(batch_size, size_train_data, size_val_data, size_test_data, lr, betas, n_epoch, update_experts,\n",
    "                dim_embedding, dim_values, dim_hidden, n_heads, n_att_layers, n_pool, alpha, p,\n",
    "                n_free_min, n_free_max, d_edge_min, d_edge_max, Omega_max, Phi_max, Lambda_max,\n",
    "                weighted=weighted, w_max=w_max, directed=directed, path_experts=path_experts, path_data=path_data,\n",
    "                resume_training=resume_training, path_train=path_train,\n",
    "                path_test_data=path_test_data, exact_protection=exact_protection, batch_unroll=batch_unroll)"
   ]
  },
  {
   "cell_type": "markdown",
   "metadata": {},
   "source": [
    "# 2. Using trained experts or an exact algorithm to solve an instance of MCN"
   ]
  },
  {
   "cell_type": "markdown",
   "metadata": {},
   "source": [
    "### a) Generating a random instance"
   ]
  },
  {
   "cell_type": "code",
   "execution_count": 5,
   "metadata": {},
   "outputs": [
    {
     "name": "stderr",
     "output_type": "stream",
     "text": [
      "L:\\Anaconda3\\lib\\site-packages\\h5py\\__init__.py:36: FutureWarning: Conversion of the second argument of issubdtype from `float` to `np.floating` is deprecated. In future, it will be treated as `np.float64 == np.dtype(float).type`.\n",
      "  from ._conv import register_converters as _register_converters\n"
     ]
    }
   ],
   "source": [
    "# import the function generating a random instance\n",
    "from MCN.utils import generate_random_instance, plot_graph"
   ]
  },
  {
   "cell_type": "code",
   "execution_count": 14,
   "metadata": {},
   "outputs": [
    {
     "data": {
      "image/png": "[encoded data removed]",
      "text/plain": [
       "<Figure size 432x432 with 1 Axes>"
      ]
     },
     "metadata": {},
     "output_type": "display_data"
    },
    {
     "name": "stdout",
     "output_type": "stream",
     "text": [
      "Already attacked nodes :  []\n",
      "Omega : 2 ,  Phi : 2 , Lambda : 3\n"
     ]
    }
   ],
   "source": [
    "instance = generate_random_instance(n_free_min, n_free_max, d_edge_min, d_edge_max, Omega_max, Phi_max, Lambda_max,\n",
    "                                   directed=directed, weighted=weighted)\n",
    "G = instance.G\n",
    "Omega = instance.Omega\n",
    "Phi = instance.Phi\n",
    "Lambda = instance.Lambda\n",
    "J = instance.J\n",
    "# plots the graph\n",
    "plot_graph(G)\n",
    "# print the other parameters\n",
    "print(\"Already attacked nodes : \", J)\n",
    "print(\"Omega : %d ,  Phi : %d , Lambda : %d\"%(Omega, Phi, Lambda))"
   ]
  },
  {
   "cell_type": "markdown",
   "metadata": {},
   "source": [
    "### b) Solving the instance exactly"
   ]
  },
  {
   "cell_type": "code",
   "execution_count": 6,
   "metadata": {},
   "outputs": [],
   "source": [
    "# import the solver\n",
    "from MCN.solve_mcn import solve_mcn"
   ]
  },
  {
   "cell_type": "code",
   "execution_count": 16,
   "metadata": {},
   "outputs": [
    {
     "name": "stdout",
     "output_type": "stream",
     "text": [
      "Values of the saved nodes :  13\n",
      "Vaccinated nodes D:  [1, 3]\n",
      "Attacked nodes I :  [5, 13]\n",
      "Protected nodes P : [4, 11, 14]\n"
     ]
    }
   ],
   "source": [
    "value, D, I, P = solve_mcn(G, Omega, Phi, Lambda, J=J, exact=True)\n",
    "# print the outputs\n",
    "print(\"Values of the saved nodes : \", value)\n",
    "print(\"Vaccinated nodes D: \", D)\n",
    "print(\"Attacked nodes I : \", I)\n",
    "print(\"Protected nodes P :\", P)"
   ]
  },
  {
   "cell_type": "markdown",
   "metadata": {},
   "source": [
    "### c) Displaying the real value of each node"
   ]
  },
  {
   "cell_type": "code",
   "execution_count": 17,
   "metadata": {},
   "outputs": [
    {
     "data": {
      "image/png": "[encoded data removed]",
      "text/plain": [
       "<Figure size 432x288 with 1 Axes>"
      ]
     },
     "metadata": {},
     "output_type": "display_data"
    }
   ],
   "source": [
    "from MCN.test_performances.experiments import compute_node_values\n",
    "\n",
    "compute_node_values(G, J, Omega, Phi, Lambda, exact=True)"
   ]
  },
  {
   "cell_type": "markdown",
   "metadata": {},
   "source": [
    "### d) Solving the instance heuristically with pre-trained experts"
   ]
  },
  {
   "cell_type": "code",
   "execution_count": 7,
   "metadata": {},
   "outputs": [],
   "source": [
    "# import the ValueNet object\n",
    "from MCN.MCN_heur.neural_networks import ValueNet\n",
    "# import the experts loader\n",
    "from MCN.utils import load_saved_experts"
   ]
  },
  {
   "cell_type": "code",
   "execution_count": 9,
   "metadata": {},
   "outputs": [],
   "source": [
    "# load the models\n",
    "list_experts = load_saved_experts(\"models/trained_on_D1/experts\", dim_input=5, dim_embedding=dim_embedding,\n",
    "                                  dim_values=dim_values, dim_hidden=dim_hidden, n_heads=n_heads, n_att_layers=n_att_layers,\n",
    "                                  n_pool=n_pool, K=n_max, alpha=alpha, p=p, weighted=weighted)"
   ]
  },
  {
   "cell_type": "code",
   "execution_count": 20,
   "metadata": {},
   "outputs": [
    {
     "name": "stdout",
     "output_type": "stream",
     "text": [
      "Values of the saved nodes :  13.0\n",
      "Vaccinated nodes D:  [3, 1]\n",
      "Attacked nodes I :  [9, 13]\n",
      "Protected nodes P : [4, 11, 2]\n"
     ]
    }
   ],
   "source": [
    "value, D, I, P = solve_mcn(G, Omega, Phi, Lambda, J=J,\n",
    "                           Omega_max=Omega_max, Phi_max=Phi_max, Lambda_max=Lambda_max,\n",
    "                           exact=False, list_experts=list_experts)\n",
    "# print the outputs\n",
    "print(\"Values of the saved nodes : \", value)\n",
    "print(\"Vaccinated nodes D: \", D)\n",
    "print(\"Attacked nodes I : \", I)\n",
    "print(\"Protected nodes P :\", P)"
   ]
  },
  {
   "cell_type": "markdown",
   "metadata": {},
   "source": [
    "### e) Displaying the approximate value of each node"
   ]
  },
  {
   "cell_type": "code",
   "execution_count": 21,
   "metadata": {},
   "outputs": [
    {
     "data": {
      "image/png": "[encoded data removed]",
      "text/plain": [
       "<Figure size 432x288 with 1 Axes>"
      ]
     },
     "metadata": {},
     "output_type": "display_data"
    }
   ],
   "source": [
    "compute_node_values(G, J, Omega, Phi, Lambda, exact=False, Omega_max=Omega_max, Phi_max=Phi_max, Lambda_max=Lambda_max,\n",
    "                    list_experts=list_experts)"
   ]
  },
  {
   "cell_type": "markdown",
   "metadata": {},
   "source": [
    "# 3. Test the performances of the heuristic"
   ]
  },
  {
   "cell_type": "markdown",
   "metadata": {},
   "source": [
    "### a) Generate a test set for each stage of the curriculum"
   ]
  },
  {
   "cell_type": "code",
   "execution_count": 10,
   "metadata": {},
   "outputs": [],
   "source": [
    "# import the generator\n",
    "from MCN.MCN_heur.data import generate_test_set"
   ]
  },
  {
   "cell_type": "code",
   "execution_count": 11,
   "metadata": {},
   "outputs": [
    {
     "name": "stdout",
     "output_type": "stream",
     "text": [
      "==========================================================================\n",
      "Generates the test set... \n",
      "\n"
     ]
    },
    {
     "name": "stderr",
     "output_type": "stream",
     "text": [
      "100%|████████████████████████████████████████████████████████████████████████████████| 9/9 [3:08:51<00:00, 2400.11s/it]\n"
     ]
    }
   ],
   "source": [
    "# create a test set named \"test_set.gz\" in the directory given (creates it if not existing)\n",
    "# the argument 'size_test_set' indicate the size of each of the test sets for the stages of the curriculum\n",
    "generate_test_set(n_free_min, n_free_max, d_edge_min, d_edge_max, Omega_max, Phi_max, Lambda_max,\n",
    "                  weighted, w_max, directed, size_test_set=1000)"
   ]
  },
  {
   "cell_type": "markdown",
   "metadata": {},
   "source": [
    "### b) Compute the optimality gap and approximation ratio of the heuristic"
   ]
  },
  {
   "cell_type": "markdown",
   "metadata": {},
   "source": [
    "Formula applied to compute the optimality gap:\n",
    "<h3 align=\"center\"> $ \\eta = \\frac{1}{n_{instance}} \\sum_{i=1}^{n_{instance}}\\frac{|value_i^{(true)} - value_i^{(heur)}|}{ value_i^{(true)}}$</h3>\n",
    "Formula applied to compute the approximation ratio:\n",
    "<h3 align=\"center\"> $\\zeta = \\frac{1}{n_{instance}} \\sum_{i=1}^{n_{instance}} \\max \\left( \\frac{value_i^{(true)}}{ value_i^{(heur)}}, \\frac{value_i^{(heur)}}{ value_i^{(true)}} \\right)$</h3>"
   ]
  },
  {
   "cell_type": "code",
   "execution_count": 12,
   "metadata": {},
   "outputs": [],
   "source": [
    "# to display the dataframes\n",
    "import pandas as pd\n",
    "# import the fonction that tests that\n",
    "from MCN.test_performances.experiments import metrics_each_stage_cur"
   ]
  },
  {
   "cell_type": "code",
   "execution_count": 13,
   "metadata": {},
   "outputs": [
    {
     "name": "stdout",
     "output_type": "stream",
     "text": [
      "==========================================================================\n",
      "Computing the values using the heuristic... \n",
      "\n"
     ]
    },
    {
     "name": "stderr",
     "output_type": "stream",
     "text": [
      "100%|█████████████████████████████████████████████████████████████████████████████████| 9/9 [1:09:54<00:00, 666.07s/it]\n"
     ]
    },
    {
     "name": "stdout",
     "output_type": "stream",
     "text": [
      "Average Approx Ratio :  1.005480554718974\n",
      "Average optimality gap : 0.492608 %\n"
     ]
    },
    {
     "data": {
      "text/html": [
       "<div>\n",
       "<style scoped>\n",
       "    .dataframe tbody tr th:only-of-type {\n",
       "        vertical-align: middle;\n",
       "    }\n",
       "\n",
       "    .dataframe tbody tr th {\n",
       "        vertical-align: top;\n",
       "    }\n",
       "\n",
       "    .dataframe thead th {\n",
       "        text-align: right;\n",
       "    }\n",
       "</style>\n",
       "<table border=\"1\" class=\"dataframe\">\n",
       "  <thead>\n",
       "    <tr style=\"text-align: right;\">\n",
       "      <th></th>\n",
       "      <th>$\\eta(\\%)$</th>\n",
       "      <th>$\\zeta$</th>\n",
       "    </tr>\n",
       "  </thead>\n",
       "  <tbody>\n",
       "    <tr>\n",
       "      <th>$\\Omega = 0, \\Phi = 0 , \\Lambda = 1 $</th>\n",
       "      <td>0.000000</td>\n",
       "      <td>1.000000</td>\n",
       "    </tr>\n",
       "    <tr>\n",
       "      <th>$\\Omega = 0, \\Phi = 0 , \\Lambda = 2 $</th>\n",
       "      <td>0.000000</td>\n",
       "      <td>1.000000</td>\n",
       "    </tr>\n",
       "    <tr>\n",
       "      <th>$\\Omega = 0, \\Phi = 0 , \\Lambda = 3 $</th>\n",
       "      <td>0.012500</td>\n",
       "      <td>1.000143</td>\n",
       "    </tr>\n",
       "    <tr>\n",
       "      <th>$\\Omega = 0, \\Phi = 1 , \\Lambda \\in [\\![0, 3]\\!]$</th>\n",
       "      <td>0.102738</td>\n",
       "      <td>1.001045</td>\n",
       "    </tr>\n",
       "    <tr>\n",
       "      <th>$\\Omega = 0, \\Phi = 2 , \\Lambda \\in [\\![0, 3]\\!]$</th>\n",
       "      <td>0.429087</td>\n",
       "      <td>1.004291</td>\n",
       "    </tr>\n",
       "    <tr>\n",
       "      <th>$\\Omega = 0, \\Phi = 3 , \\Lambda \\in [\\![0, 3]\\!]$</th>\n",
       "      <td>0.549524</td>\n",
       "      <td>1.005495</td>\n",
       "    </tr>\n",
       "    <tr>\n",
       "      <th>$\\Omega = 1, \\Phi \\in [\\![1, 3]\\!] , \\Lambda \\in [\\![0, 3]\\!] $</th>\n",
       "      <td>0.599520</td>\n",
       "      <td>1.006889</td>\n",
       "    </tr>\n",
       "    <tr>\n",
       "      <th>$\\Omega = 2, \\Phi \\in [\\![1, 3]\\!] , \\Lambda \\in [\\![0, 3]\\!] $</th>\n",
       "      <td>1.175457</td>\n",
       "      <td>1.013416</td>\n",
       "    </tr>\n",
       "    <tr>\n",
       "      <th>$\\Omega = 3, \\Phi \\in [\\![1, 3]\\!] , \\Lambda \\in [\\![0, 3]\\!] $</th>\n",
       "      <td>1.072041</td>\n",
       "      <td>1.012565</td>\n",
       "    </tr>\n",
       "  </tbody>\n",
       "</table>\n",
       "</div>"
      ],
      "text/plain": [
       "                                                    $\\eta(\\%)$   $\\zeta$\n",
       "$\\Omega = 0, \\Phi = 0 , \\Lambda = 1 $                 0.000000  1.000000\n",
       "$\\Omega = 0, \\Phi = 0 , \\Lambda = 2 $                 0.000000  1.000000\n",
       "$\\Omega = 0, \\Phi = 0 , \\Lambda = 3 $                 0.012500  1.000143\n",
       "$\\Omega = 0, \\Phi = 1 , \\Lambda \\in [\\![0, 3]\\!]$     0.102738  1.001045\n",
       "$\\Omega = 0, \\Phi = 2 , \\Lambda \\in [\\![0, 3]\\!]$     0.429087  1.004291\n",
       "$\\Omega = 0, \\Phi = 3 , \\Lambda \\in [\\![0, 3]\\!]$     0.549524  1.005495\n",
       "$\\Omega = 1, \\Phi \\in [\\![1, 3]\\!] , \\Lambda \\i...    0.599520  1.006889\n",
       "$\\Omega = 2, \\Phi \\in [\\![1, 3]\\!] , \\Lambda \\i...    1.175457  1.013416\n",
       "$\\Omega = 3, \\Phi \\in [\\![1, 3]\\!] , \\Lambda \\i...    1.072041  1.012565"
      ]
     },
     "metadata": {},
     "output_type": "display_data"
    },
    {
     "data": {
      "text/html": [
       "<div>\n",
       "<style scoped>\n",
       "    .dataframe tbody tr th:only-of-type {\n",
       "        vertical-align: middle;\n",
       "    }\n",
       "\n",
       "    .dataframe tbody tr th {\n",
       "        vertical-align: top;\n",
       "    }\n",
       "\n",
       "    .dataframe thead th {\n",
       "        text-align: right;\n",
       "    }\n",
       "</style>\n",
       "<table border=\"1\" class=\"dataframe\">\n",
       "  <thead>\n",
       "    <tr style=\"text-align: right;\">\n",
       "      <th></th>\n",
       "      <th>$\\eta(\\%)$</th>\n",
       "      <th>$\\zeta$</th>\n",
       "    </tr>\n",
       "  </thead>\n",
       "  <tbody>\n",
       "    <tr>\n",
       "      <th>Vaccinator</th>\n",
       "      <td>0.949006</td>\n",
       "      <td>1.010957</td>\n",
       "    </tr>\n",
       "    <tr>\n",
       "      <th>Attacker</th>\n",
       "      <td>0.360450</td>\n",
       "      <td>1.003610</td>\n",
       "    </tr>\n",
       "    <tr>\n",
       "      <th>Protector</th>\n",
       "      <td>0.004167</td>\n",
       "      <td>1.000048</td>\n",
       "    </tr>\n",
       "  </tbody>\n",
       "</table>\n",
       "</div>"
      ],
      "text/plain": [
       "            $\\eta(\\%)$   $\\zeta$\n",
       "Vaccinator    0.949006  1.010957\n",
       "Attacker      0.360450  1.003610\n",
       "Protector     0.004167  1.000048"
      ]
     },
     "metadata": {},
     "output_type": "display_data"
    }
   ],
   "source": [
    "df_budget, df_player, idx_budget, idx_player = metrics_each_stage_cur(Omega_max, Phi_max, Lambda_max,\n",
    "                                                                       list_experts, exact_protection=False,\n",
    "                                                                       path_test_data=\"data/test_data\", DQN=False)\n",
    "df_budget = pd.DataFrame(df_budget, index=idx_budget)\n",
    "display(df_budget)\n",
    "df_player = pd.DataFrame(df_player, index=idx_player)\n",
    "display(df_player)"
   ]
  },
  {
   "cell_type": "markdown",
   "metadata": {},
   "source": [
    "### c) Compute the metrics on a publicaly available test set"
   ]
  },
  {
   "cell_type": "markdown",
   "metadata": {},
   "source": [
    "We compare the results of our heuristics on a publicaly available test set of increasingly larger instances. The test set was created for the original [*Multilevel Critical Node problem* paper]( http://cerc-datascience.polymtl.ca/wp-content/uploads/2017/11/Technical-Report_DS4DM-2017-012.pdf ) and is available at the following address: https://github.com/mxmmargarida/Critical-Node-Problem . We compare the time necessary to solve our problem with the best solver available, MCN$^{MIX}$. The results displayed here are slightly different from the ones in our paper as we use an other model to heuristicaly solve the instances."
   ]
  },
  {
   "cell_type": "code",
   "execution_count": 14,
   "metadata": {},
   "outputs": [],
   "source": [
    "from MCN.test_performances.experiments import metrics_test_set"
   ]
  },
  {
   "cell_type": "code",
   "execution_count": 15,
   "metadata": {},
   "outputs": [],
   "source": [
    "# First, we load our experts trained on D^2\n",
    "list_experts = load_saved_experts(\"models/trained_on_D2/experts\", dim_input=5, dim_embedding=dim_embedding,\n",
    "                                  dim_values=dim_values, dim_hidden=dim_hidden, n_heads=n_heads, n_att_layers=n_att_layers,\n",
    "                                  n_pool=n_pool, K=n_max, alpha=alpha, p=p, weighted=weighted)"
   ]
  },
  {
   "cell_type": "code",
   "execution_count": 16,
   "metadata": {},
   "outputs": [
    {
     "name": "stdout",
     "output_type": "stream",
     "text": [
      "==========================================================================\n",
      "Computing the values using the heuristic... \n",
      "\n"
     ]
    },
    {
     "name": "stderr",
     "output_type": "stream",
     "text": [
      "100%|█████████████████████████████████████████████████████████████████████████████████| 5/5 [1:10:51<00:00, 735.24s/it]\n"
     ]
    },
    {
     "data": {
      "text/html": [
       "<div>\n",
       "<style scoped>\n",
       "    .dataframe tbody tr th:only-of-type {\n",
       "        vertical-align: middle;\n",
       "    }\n",
       "\n",
       "    .dataframe tbody tr th {\n",
       "        vertical-align: top;\n",
       "    }\n",
       "\n",
       "    .dataframe thead th {\n",
       "        text-align: right;\n",
       "    }\n",
       "</style>\n",
       "<table border=\"1\" class=\"dataframe\">\n",
       "  <thead>\n",
       "    <tr style=\"text-align: right;\">\n",
       "      <th></th>\n",
       "      <th>$\\eta(\\%)$</th>\n",
       "      <th>$\\zeta$</th>\n",
       "      <th>$t_{exact}(s)$</th>\n",
       "      <th>$t_{heur}(s)$</th>\n",
       "    </tr>\n",
       "    <tr>\n",
       "      <th>$\\#V$</th>\n",
       "      <th></th>\n",
       "      <th></th>\n",
       "      <th></th>\n",
       "      <th></th>\n",
       "    </tr>\n",
       "  </thead>\n",
       "  <tbody>\n",
       "    <tr>\n",
       "      <th>20</th>\n",
       "      <td>0.476852</td>\n",
       "      <td>1.004900</td>\n",
       "      <td>28.577125</td>\n",
       "      <td>1.064094</td>\n",
       "    </tr>\n",
       "    <tr>\n",
       "      <th>40</th>\n",
       "      <td>5.381640</td>\n",
       "      <td>1.061389</td>\n",
       "      <td>241.469055</td>\n",
       "      <td>2.433991</td>\n",
       "    </tr>\n",
       "    <tr>\n",
       "      <th>60</th>\n",
       "      <td>5.524543</td>\n",
       "      <td>1.071449</td>\n",
       "      <td>405.035145</td>\n",
       "      <td>3.540778</td>\n",
       "    </tr>\n",
       "    <tr>\n",
       "      <th>80</th>\n",
       "      <td>8.475588</td>\n",
       "      <td>1.101945</td>\n",
       "      <td>635.668673</td>\n",
       "      <td>5.791503</td>\n",
       "    </tr>\n",
       "    <tr>\n",
       "      <th>100</th>\n",
       "      <td>49.453096</td>\n",
       "      <td>1.501022</td>\n",
       "      <td>847.986400</td>\n",
       "      <td>11.964125</td>\n",
       "    </tr>\n",
       "  </tbody>\n",
       "</table>\n",
       "</div>"
      ],
      "text/plain": [
       "       $\\eta(\\%)$   $\\zeta$  $t_{exact}(s)$  $t_{heur}(s)$\n",
       "$\\#V$                                                     \n",
       "20       0.476852  1.004900       28.577125       1.064094\n",
       "40       5.381640  1.061389      241.469055       2.433991\n",
       "60       5.524543  1.071449      405.035145       3.540778\n",
       "80       8.475588  1.101945      635.668673       5.791503\n",
       "100     49.453096  1.501022      847.986400      11.964125"
      ]
     },
     "metadata": {},
     "output_type": "display_data"
    }
   ],
   "source": [
    "df_n = metrics_test_set('data/instances_MCN_MIX.gz', Omega_max, Phi_max, Lambda_max,\n",
    "                        list_experts, path_times='data/times_MCN_MIX.gz')\n",
    "\n",
    "df= pd.DataFrame(df_n)\n",
    "df = df.set_index('$\\#V$')\n",
    "display(df)"
   ]
  },
  {
   "cell_type": "code",
   "execution_count": null,
   "metadata": {},
   "outputs": [],
   "source": []
  }
 ],
 "metadata": {
  "kernelspec": {
   "display_name": "Python 3",
   "language": "python",
   "name": "python3"
  },
  "language_info": {
   "codemirror_mode": {
    "name": "ipython",
    "version": 3
   },
   "file_extension": ".py",
   "mimetype": "text/x-python",
   "name": "python",
   "nbconvert_exporter": "python",
   "pygments_lexer": "ipython3",
   "version": "3.6.5"
  }
 },
 "nbformat": 4,
 "nbformat_minor": 2
}
