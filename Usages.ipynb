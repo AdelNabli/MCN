{
 "cells": [
  {
   "cell_type": "markdown",
   "metadata": {},
   "source": [
    "<div style=\"text-align: center; font-size: 25pt; font-weight: bold; margin: 1em 0em 1em 0em\">Usages of the MCN package</div>\n",
    "\n",
    "**Author:** Adel Nabli"
   ]
  },
  {
   "cell_type": "markdown",
   "metadata": {},
   "source": [
    "# Introduction: The Multilevel Critical Node problem"
   ]
  },
  {
   "cell_type": "markdown",
   "metadata": {},
   "source": [
    "We have a graph $G(V,E)$ and we want to solve a multilevel critical node problem as introduced in [1]. We use the following variables:\n",
    "* $D \\subset V$: set of vaccinated nodes $\\quad ; \\quad$ $z_v = \\mathbb{1}_{\\text{v is vaccinated}}$ $\\quad ; \\quad$ $\\sum_{v \\in V} z_v \\leq \\Omega$\n",
    "* $P \\subset V$: set of protected nodes $\\quad ; \\quad$ $x_v = \\mathbb{1}_{\\text{v is protected}}$ $\\quad ; \\quad$ $\\sum_{v \\in V} x_v \\leq \\Lambda$\n",
    "* $I \\subset V$: set of attacked nodes $\\quad ; \\quad$ $y_v = \\mathbb{1}_{\\text{v is attacked}}$ $\\quad ; \\quad$ $\\sum_{v \\in V} y_v \\leq \\Phi$\n",
    "* $S \\subset V$: set of saved nodes $\\quad ; \\quad$ $\\alpha_v = \\mathbb{1}_{\\text{v is saved}}$\n",
    "\n",
    "We want to solve the following trilevel problem:\n",
    "<h3 align=\"center\"> $ \\underset{ \\substack{z \\in \\{0,1\\}^V \\\\ \\sum_{v \\in V} z_v \\leq \\Omega}}{\\max} \\underset{ \\substack{y \\in \\{0,1\\}^V \\\\ \\sum_{v \\in V} y_v \\leq \\Phi}}{\\min} \\underset{ \\substack{x \\in \\{0,1\\}^V \\\\ \\alpha \\in [0,1]^V}}{\\max} \\sum_{v \\in V} \\alpha_v  \\\\ \\quad \\quad  \\quad \\quad \\text{subject to} \\quad \\sum_{v \\in V} x_v \\leq \\Lambda \\\\ \\quad  \\quad \\quad  \\quad \\quad \\quad \\quad \\quad \\quad \\alpha_v \\leq 1+ z_v - y_v \\quad \\forall v \\in V \\\\ \\quad  \\quad \\quad  \\quad \\quad \\quad \\quad \\quad \\quad \\alpha_v \\leq \\alpha_u + x_v + z_v \\quad \\forall (u,v) \\in E$</h3>\n",
    "\n",
    "**Sources:**\n",
    "\n",
    "[1] **A. Baggio, M. Carvalho, A. Lodi, A. Tramontani**, [\"Multilevel Approaches for the Critical Node Problem\"]( http://cerc-datascience.polymtl.ca/wp-content/uploads/2017/11/Technical-Report_DS4DM-2017-012.pdf), 2018."
   ]
  },
  {
   "cell_type": "markdown",
   "metadata": {},
   "source": [
    "# [OPTIONAL] Google colab: installing packages"
   ]
  },
  {
   "cell_type": "markdown",
   "metadata": {},
   "source": [
    "If this notebook is to be run on google colab, some extra steps should be taken to properly install pytorch geometric.\n",
    "Replace ```${CUDA}``` with the version used on your PyTorch installation as explained in the [pytorch geometric documentation](https://pytorch-geometric.readthedocs.io/en/latest/notes/installation.html)"
   ]
  },
  {
   "cell_type": "code",
   "execution_count": null,
   "metadata": {},
   "outputs": [],
   "source": [
    "!pip install torch-scatter==latest+${CUDA} -f https://pytorch-geometric.com/whl/torch-1.4.0.html\n",
    "!pip install torch-sparse==latest+${CUDA} -f https://pytorch-geometric.com/whl/torch-1.4.0.html\n",
    "!pip install torch-cluster==latest+${CUDA} -f https://pytorch-geometric.com/whl/torch-1.4.0.html\n",
    "!pip install torch-spline-conv==latest+${CUDA} -f https://pytorch-geometric.com/whl/torch-1.4.0.html\n",
    "!pip install torch-geometric\n",
    "!pip install --upgrade git+https://github.com/AdelNabli/MCN"
   ]
  },
  {
   "cell_type": "markdown",
   "metadata": {},
   "source": [
    "# 1. Training the neural network to solve the MCN"
   ]
  },
  {
   "cell_type": "code",
   "execution_count": 1,
   "metadata": {},
   "outputs": [
    {
     "name": "stderr",
     "output_type": "stream",
     "text": [
      "L:\\Anaconda3\\lib\\site-packages\\h5py\\__init__.py:36: FutureWarning: Conversion of the second argument of issubdtype from `float` to `np.floating` is deprecated. In future, it will be treated as `np.float64 == np.dtype(float).type`.\n",
      "  from ._conv import register_converters as _register_converters\n"
     ]
    }
   ],
   "source": [
    "# Import the training function\n",
    "from MCN.MCN_curriculum.train import train_value_net"
   ]
  },
  {
   "cell_type": "markdown",
   "metadata": {},
   "source": [
    "### a) setting the variables governing the distribution of instances"
   ]
  },
  {
   "cell_type": "code",
   "execution_count": 1,
   "metadata": {},
   "outputs": [],
   "source": [
    "# n_free designs the number of nodes of the graph\n",
    "# that would be neither vaccinated, infected or attacked.\n",
    "# It governs the range of graph's sizes we are considering\n",
    "n_free_min = 9\n",
    "n_free_max = 14\n",
    "# d_edge controls the density of edge we want the instances\n",
    "# to have. d_edge = 1. means that all possible edges are created\n",
    "# i.e, we have a clique\n",
    "d_edge_min = 0.2\n",
    "d_edge_max = 0.5\n",
    "# Omega, Phi and Lambda are the budgets of the players\n",
    "# Phi_max should be >= 1, otherwise there is no MCN problem\n",
    "Omega_max = 3\n",
    "Phi_max = 3\n",
    "Lambda_max = 3\n",
    "w_max = 5\n",
    "weighted = False\n",
    "directed = False"
   ]
  },
  {
   "cell_type": "code",
   "execution_count": 2,
   "metadata": {},
   "outputs": [
    {
     "name": "stderr",
     "output_type": "stream",
     "text": [
      "L:\\Anaconda3\\lib\\site-packages\\h5py\\__init__.py:36: FutureWarning: Conversion of the second argument of issubdtype from `float` to `np.floating` is deprecated. In future, it will be treated as `np.float64 == np.dtype(float).type`.\n",
      "  from ._conv import register_converters as _register_converters\n"
     ]
    }
   ],
   "source": [
    "from MCN.MCN_curriculum.data import generate_test_set"
   ]
  },
  {
   "cell_type": "code",
   "execution_count": 3,
   "metadata": {},
   "outputs": [
    {
     "name": "stdout",
     "output_type": "stream",
     "text": [
      "==========================================================================\n",
      "Generates the test set... \n",
      "\n"
     ]
    },
    {
     "name": "stderr",
     "output_type": "stream",
     "text": [
      "100%|████████████████████████████████████████████████████████████████████████████████| 9/9 [2:46:26<00:00, 1879.48s/it]\n"
     ]
    }
   ],
   "source": [
    "weighted = True\n",
    "directed = False\n",
    "generate_test_set(n_free_min, n_free_max, d_edge_min, d_edge_max, Omega_max, Phi_max, Lambda_max,\n",
    "                  weighted, w_max, directed, size_test_set=1000, to_torch=True)"
   ]
  },
  {
   "cell_type": "code",
   "execution_count": 4,
   "metadata": {},
   "outputs": [
    {
     "name": "stdout",
     "output_type": "stream",
     "text": [
      "==========================================================================\n",
      "Generates the test set... \n",
      "\n"
     ]
    },
    {
     "name": "stderr",
     "output_type": "stream",
     "text": [
      "100%|████████████████████████████████████████████████████████████████████████████████| 9/9 [2:01:14<00:00, 1535.54s/it]\n"
     ]
    }
   ],
   "source": [
    "weighted = False\n",
    "directed = True\n",
    "generate_test_set(n_free_min, n_free_max, d_edge_min, d_edge_max, Omega_max, Phi_max, Lambda_max,\n",
    "                  weighted, w_max, directed, size_test_set=1000, to_torch=True)"
   ]
  },
  {
   "cell_type": "code",
   "execution_count": 5,
   "metadata": {},
   "outputs": [
    {
     "name": "stdout",
     "output_type": "stream",
     "text": [
      "==========================================================================\n",
      "Generates the test set... \n",
      "\n"
     ]
    },
    {
     "name": "stderr",
     "output_type": "stream",
     "text": [
      "100%|████████████████████████████████████████████████████████████████████████████████| 9/9 [2:18:56<00:00, 1720.46s/it]\n"
     ]
    }
   ],
   "source": [
    "weighted = False\n",
    "directed = False\n",
    "generate_test_set(n_free_min, n_free_max, d_edge_min, d_edge_max, Omega_max, Phi_max, Lambda_max,\n",
    "                  weighted, w_max, directed, size_test_set=1000, to_torch=True)"
   ]
  },
  {
   "cell_type": "code",
   "execution_count": 10,
   "metadata": {},
   "outputs": [
    {
     "name": "stdout",
     "output_type": "stream",
     "text": [
      "==========================================================================\n",
      "Generates the test set... \n",
      "\n"
     ]
    },
    {
     "name": "stderr",
     "output_type": "stream",
     "text": [
      "100%|█████████████████████████████████████████████████████████████████████████████████| 9/9 [1:17:43<00:00, 891.41s/it]\n"
     ]
    }
   ],
   "source": [
    "generate_test_set(n_free_min, n_free_max, d_edge_min, d_edge_max, Omega_max, Phi_max, Lambda_max,\n",
    "                  weighted, w_max, directed, size_test_set=500, to_torch=True)"
   ]
  },
  {
   "cell_type": "markdown",
   "metadata": {},
   "source": [
    "### b) setting the hyperparameters of the neural network"
   ]
  },
  {
   "cell_type": "code",
   "execution_count": 2,
   "metadata": {},
   "outputs": [],
   "source": [
    "# h1 and h2 are the hidden dim sizes used throughout\n",
    "# the neural net's architecture.\n",
    "h1 = 256\n",
    "h2 = 128\n",
    "# the number of attention heads in the GAT\n",
    "n_heads = 4\n",
    "# the 'skip connection' parameter in the APPNP part\n",
    "alpha = 0.1\n",
    "# the dropout probability\n",
    "p = 0.2"
   ]
  },
  {
   "cell_type": "markdown",
   "metadata": {},
   "source": [
    "### c) setting the parameters of the training algorithm"
   ]
  },
  {
   "cell_type": "code",
   "execution_count": 3,
   "metadata": {},
   "outputs": [],
   "source": [
    "# batch size used\n",
    "batch_size = 256\n",
    "# Size of training set\n",
    "size_train_data = 100000\n",
    "# Size of the validation set\n",
    "size_val_data = 500\n",
    "# Learning rate of the optimizer\n",
    "lr = 1e-4\n",
    "# betas parameters of the optimizer\n",
    "betas = (0.8,0.9)\n",
    "# number of epoch\n",
    "n_epoch = 60\n",
    "# path to the directory to pre-trained target nets\n",
    "path_experts = None #\"models/colab/experts\"\n",
    "# path to the directory containing the training and validation data\n",
    "path_data = 'data'\n",
    "# If resume training, set to True\n",
    "resume_training = False\n",
    "# path to the file containing the training parameters to load\n",
    "path_train = \"\" #\"models/value_net.tar\""
   ]
  },
  {
   "cell_type": "code",
   "execution_count": null,
   "metadata": {},
   "outputs": [],
   "source": [
    "# Train the neural network\n",
    "train_value_net(batch_size, size_train_data, size_val_data, lr, betas, n_epoch, h1, h2, n_heads, alpha, p,\n",
    "                n_free_min, n_free_max, d_edge_min, d_edge_max, Omega_max, Phi_max, Lambda_max,\n",
    "                num_workers=0, path_experts=path_experts, path_data=path_data, resume_training=resume_training,\n",
    "                path_train=path_train)"
   ]
  },
  {
   "cell_type": "markdown",
   "metadata": {},
   "source": [
    "# 2. Using trained experts or an exact algorithm to solve an instance of MCN"
   ]
  },
  {
   "cell_type": "markdown",
   "metadata": {},
   "source": [
    "### a) Generating a random instance"
   ]
  },
  {
   "cell_type": "code",
   "execution_count": 6,
   "metadata": {},
   "outputs": [],
   "source": [
    "# import the function generating a random instance\n",
    "from MCN.utils import generate_random_instance, plot_graph"
   ]
  },
  {
   "cell_type": "code",
   "execution_count": 39,
   "metadata": {},
   "outputs": [
    {
     "data": {
      "image/png": "[encoded data removed]",
      "text/plain": [
       "<Figure size 360x360 with 1 Axes>"
      ]
     },
     "metadata": {},
     "output_type": "display_data"
    },
    {
     "name": "stdout",
     "output_type": "stream",
     "text": [
      "Already attacked nodes :  []\n",
      "Omega : 0 ,  Phi : 1 , Lambda : 2\n"
     ]
    }
   ],
   "source": [
    "instance = generate_random_instance(n_free_min, n_free_max, d_edge_min, d_edge_max, Omega_max, Phi_max, Lambda_max)\n",
    "G = instance.G\n",
    "Omega = instance.Omega\n",
    "Phi = instance.Phi\n",
    "Lambda = instance.Lambda\n",
    "J = instance.J\n",
    "# plots the graph\n",
    "plot_graph(G)\n",
    "# print the other parameters\n",
    "print(\"Already attacked nodes : \", J)\n",
    "print(\"Omega : %d ,  Phi : %d , Lambda : %d\"%(Omega, Phi, Lambda))"
   ]
  },
  {
   "cell_type": "markdown",
   "metadata": {},
   "source": [
    "### b) Solving the instance exactly"
   ]
  },
  {
   "cell_type": "code",
   "execution_count": 2,
   "metadata": {},
   "outputs": [
    {
     "name": "stderr",
     "output_type": "stream",
     "text": [
      "L:\\Anaconda3\\lib\\site-packages\\h5py\\__init__.py:36: FutureWarning: Conversion of the second argument of issubdtype from `float` to `np.floating` is deprecated. In future, it will be treated as `np.float64 == np.dtype(float).type`.\n",
      "  from ._conv import register_converters as _register_converters\n"
     ]
    }
   ],
   "source": [
    "# import the solver\n",
    "from MCN.solve_mcn import solve_mcn"
   ]
  },
  {
   "cell_type": "code",
   "execution_count": 12,
   "metadata": {},
   "outputs": [
    {
     "name": "stdout",
     "output_type": "stream",
     "text": [
      "number of saved nodes :  7\n",
      "Vaccinated nodes D:  [6, 9]\n",
      "Attacked nodes I :  [0, 5]\n",
      "Protected nodes P : [3, 11]\n"
     ]
    }
   ],
   "source": [
    "value, D, I, P = solve_mcn(G, Omega, Phi, Lambda, J=J, exact=True)\n",
    "# print the outputs\n",
    "print(\"number of saved nodes : \", value + Omega + Lambda)\n",
    "print(\"Vaccinated nodes D: \", D)\n",
    "print(\"Attacked nodes I : \", I)\n",
    "print(\"Protected nodes P :\", P)"
   ]
  },
  {
   "cell_type": "markdown",
   "metadata": {},
   "source": [
    "### c) Solving the instance heuristically with pre-trained experts"
   ]
  },
  {
   "cell_type": "code",
   "execution_count": 6,
   "metadata": {},
   "outputs": [],
   "source": [
    "# import the ValueNet object\n",
    "from MCN.MCN_curriculum.value_nn import ValueNet\n",
    "# import the experts loader\n",
    "from MCN.utils import load_saved_experts"
   ]
  },
  {
   "cell_type": "code",
   "execution_count": 7,
   "metadata": {},
   "outputs": [
    {
     "name": "stderr",
     "output_type": "stream",
     "text": [
      "L:\\Anaconda3\\lib\\site-packages\\torch\\serialization.py:593: SourceChangeWarning: source code of class 'torch.nn.modules.linear.Linear' has changed. you can retrieve the original source code by accessing the object's source attribute or set `torch.nn.Module.dump_patches = True` and use the patch tool to revert the changes.\n",
      "  warnings.warn(msg, SourceChangeWarning)\n",
      "L:\\Anaconda3\\lib\\site-packages\\torch\\serialization.py:593: SourceChangeWarning: source code of class 'torch.nn.modules.container.ModuleList' has changed. you can retrieve the original source code by accessing the object's source attribute or set `torch.nn.Module.dump_patches = True` and use the patch tool to revert the changes.\n",
      "  warnings.warn(msg, SourceChangeWarning)\n",
      "L:\\Anaconda3\\lib\\site-packages\\torch\\serialization.py:593: SourceChangeWarning: source code of class 'torch.nn.modules.activation.ReLU' has changed. you can retrieve the original source code by accessing the object's source attribute or set `torch.nn.Module.dump_patches = True` and use the patch tool to revert the changes.\n",
      "  warnings.warn(msg, SourceChangeWarning)\n"
     ]
    }
   ],
   "source": [
    "# load the models\n",
    "list_experts = load_saved_experts(\"models/experts\")"
   ]
  },
  {
   "cell_type": "code",
   "execution_count": 15,
   "metadata": {},
   "outputs": [
    {
     "name": "stdout",
     "output_type": "stream",
     "text": [
      "number of saved nodes :  7.0\n",
      "Vaccinated nodes D:  [11, 6]\n",
      "Attacked nodes I :  [0, 13]\n",
      "Protected nodes P : [10, 3]\n"
     ]
    }
   ],
   "source": [
    "value, D, I, P = solve_mcn(G, Omega, Phi, Lambda, J=J,\n",
    "                           Omega_max=Omega_max, Phi_max=Phi_max, Lambda_max=Lambda_max,\n",
    "                           exact=False, list_experts=list_experts)\n",
    "# print the outputs\n",
    "# the expert nets outputs values that don't contain nodes bound to be saved\n",
    "# so we add the defender's budget back to the value\n",
    "print(\"number of saved nodes : \", value + Omega + Lambda)\n",
    "print(\"Vaccinated nodes D: \", D)\n",
    "print(\"Attacked nodes I : \", I)\n",
    "print(\"Protected nodes P :\", P)"
   ]
  },
  {
   "cell_type": "markdown",
   "metadata": {},
   "source": [
    "# 3. Test the performances of the heuristic"
   ]
  },
  {
   "cell_type": "markdown",
   "metadata": {},
   "source": [
    "### a) Generate a test set"
   ]
  },
  {
   "cell_type": "code",
   "execution_count": 11,
   "metadata": {},
   "outputs": [],
   "source": [
    "# import the generator\n",
    "from MCN.MCN_curriculum.data import generate_test_set"
   ]
  },
  {
   "cell_type": "code",
   "execution_count": 13,
   "metadata": {},
   "outputs": [
    {
     "name": "stdout",
     "output_type": "stream",
     "text": [
      "==========================================================================\n",
      "Generates the test set... \n",
      "\n"
     ]
    },
    {
     "name": "stderr",
     "output_type": "stream",
     "text": [
      "100%|███████████████████████████████████████████████████████████████████████████████████| 6/6 [23:15<00:00, 305.58s/it]\n"
     ]
    }
   ],
   "source": [
    "# create a test set named \"test_set.gz\" in the directory given (creates it if not existing)\n",
    "generate_test_set(n_free_min, n_free_max, d_edge_min, d_edge_max, Omega_max, Phi_max, Lambda_max,\n",
    "                  size_test_set=6000)"
   ]
  },
  {
   "cell_type": "markdown",
   "metadata": {},
   "source": [
    "### b) Compute the optimality gap of the heuristic"
   ]
  },
  {
   "cell_type": "markdown",
   "metadata": {},
   "source": [
    "Formula applied to compute the optimality gap:\n",
    "<h3 align=\"center\"> $ \\dfrac{1}{n_{instance}} \\sum_{i=1}^{n_{instance}}\\dfrac{|value_i^{(true)} - value_i^{(heur)}|}{ value_i^{(true)}}$</h3>"
   ]
  },
  {
   "cell_type": "code",
   "execution_count": 3,
   "metadata": {},
   "outputs": [],
   "source": [
    "# import the fonction that tests that\n",
    "from MCN.test_performances.optimality_gap import compute_optimality_gap"
   ]
  },
  {
   "cell_type": "code",
   "execution_count": 8,
   "metadata": {},
   "outputs": [
    {
     "name": "stdout",
     "output_type": "stream",
     "text": [
      "==========================================================================\n",
      "Computing the values using the heuristic... \n",
      "\n"
     ]
    },
    {
     "name": "stderr",
     "output_type": "stream",
     "text": [
      "100%|███████████████████████████████████████████████████████████████████████████████████| 6/6 [20:01<00:00, 245.40s/it]\n"
     ]
    }
   ],
   "source": [
    "og_budget, og_player = compute_optimality_gap(Omega_max, Phi_max, Lambda_max,\n",
    "                                              list_experts=list_experts, path_test_set=\"data/test_data/test_set.gz\")"
   ]
  },
  {
   "cell_type": "code",
   "execution_count": 9,
   "metadata": {},
   "outputs": [
    {
     "name": "stdout",
     "output_type": "stream",
     "text": [
      "optimality gap for instances with budget Omega = 0, Phi = 0 , Lambda = 1 : 0.000000 %\n",
      "optimality gap for instances with budget Omega = 0, Phi = 0 , Lambda = 2 : 0.000000 %\n",
      "optimality gap for instances with budget Omega = 0, Phi = 1 , Lambda \\in [0, 2] : 0.066667 %\n",
      "optimality gap for instances with budget Omega = 0, Phi = 2 , Lambda \\in [0, 2] : 0.172619 %\n",
      "optimality gap for instances with budget Omega = 1, Phi \\in [1, 2] , Lambda \\in [0, 2] : 0.312150 %\n",
      "optimality gap for instances with budget Omega = 2, Phi \\in [1, 2] , Lambda \\in [0, 2] : 0.568019 %\n"
     ]
    }
   ],
   "source": [
    "for k in range(Omega_max + Phi_max + Lambda_max):\n",
    "    budget = k + 1\n",
    "    if budget <= Lambda_max:\n",
    "        print(\"optimality gap for instances with budget Omega = 0, Phi = 0 , Lambda = %d : %f %%\"%(budget, og_budget[k]*100))\n",
    "    elif budget <= Lambda_max + Phi_max:\n",
    "        print(\"optimality gap for instances with budget Omega = 0, Phi = %d , Lambda \\in [0, %d] : %f %%\"%(budget - Lambda_max, Lambda_max, og_budget[k]*100))\n",
    "    elif budget > Lambda_max + Phi_max:\n",
    "        print(\"optimality gap for instances with budget Omega = %d, Phi \\in [1, %d] , Lambda \\in [0, %d] : %f %%\"%(budget - Lambda_max - Phi_max, Phi_max, Lambda_max, og_budget[k]*100))"
   ]
  },
  {
   "cell_type": "code",
   "execution_count": 10,
   "metadata": {},
   "outputs": [
    {
     "name": "stdout",
     "output_type": "stream",
     "text": [
      "optimality gap for the vaccinator : 0.440085 %\n",
      "optimality gap for the attacker : 0.119643 %\n",
      "optimality gap for the protector : 0.000000 %\n"
     ]
    }
   ],
   "source": [
    "print(\"optimality gap for the vaccinator : %f %%\" % (og_player[0]*100))\n",
    "print(\"optimality gap for the attacker : %f %%\" % (og_player[1]*100))\n",
    "print(\"optimality gap for the protector : %f %%\" % (og_player[2]*100))"
   ]
  },
  {
   "cell_type": "code",
   "execution_count": null,
   "metadata": {},
   "outputs": [],
   "source": []
  }
 ],
 "metadata": {
  "kernelspec": {
   "display_name": "Python 3",
   "language": "python",
   "name": "python3"
  },
  "language_info": {
   "codemirror_mode": {
    "name": "ipython",
    "version": 3
   },
   "file_extension": ".py",
   "mimetype": "text/x-python",
   "name": "python",
   "nbconvert_exporter": "python",
   "pygments_lexer": "ipython3",
   "version": "3.6.5"
  }
 },
 "nbformat": 4,
 "nbformat_minor": 2
}
