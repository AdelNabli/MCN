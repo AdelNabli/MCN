{
 "cells": [
  {
   "cell_type": "markdown",
   "metadata": {},
   "source": [
    "<div style=\"text-align: center; font-size: 25pt; font-weight: bold; margin: 1em 0em 1em 0em\">Usages of the MCN package</div>\n",
    "\n",
    "**Author:** Adel Nabli"
   ]
  },
  {
   "cell_type": "markdown",
   "metadata": {},
   "source": [
    "# Introduction: The Multilevel Critical Node problem"
   ]
  },
  {
   "cell_type": "markdown",
   "metadata": {},
   "source": [
    "We have a graph $G(V,E)$ and we want to solve a multilevel critical node problem as introduced in [1]. We use the following variables:\n",
    "* $D \\subset V$: set of vaccinated nodes $\\quad ; \\quad$ $z_v = \\mathbb{1}_{\\text{v is vaccinated}}$ $\\quad ; \\quad$ $\\sum_{v \\in V} z_v \\leq \\Omega$\n",
    "* $P \\subset V$: set of protected nodes $\\quad ; \\quad$ $x_v = \\mathbb{1}_{\\text{v is protected}}$ $\\quad ; \\quad$ $\\sum_{v \\in V} x_v \\leq \\Lambda$\n",
    "* $I \\subset V$: set of attacked nodes $\\quad ; \\quad$ $y_v = \\mathbb{1}_{\\text{v is attacked}}$ $\\quad ; \\quad$ $\\sum_{v \\in V} y_v \\leq \\Phi$\n",
    "* $S \\subset V$: set of saved nodes $\\quad ; \\quad$ $\\alpha_v = \\mathbb{1}_{\\text{v is saved}}$\n",
    "\n",
    "We want to solve the following trilevel problem:\n",
    "<h3 align=\"center\"> $ \\underset{ \\substack{z \\in \\{0,1\\}^V \\\\ \\sum_{v \\in V} z_v \\leq \\Omega}}{\\max} \\underset{ \\substack{y \\in \\{0,1\\}^V \\\\ \\sum_{v \\in V} y_v \\leq \\Phi}}{\\min} \\underset{ \\substack{x \\in \\{0,1\\}^V \\\\ \\alpha \\in [0,1]^V}}{\\max} \\sum_{v \\in V} \\alpha_v  \\\\ \\quad \\quad  \\quad \\quad \\text{subject to} \\quad \\sum_{v \\in V} x_v \\leq \\Lambda \\\\ \\quad  \\quad \\quad  \\quad \\quad \\quad \\quad \\quad \\quad \\alpha_v \\leq 1+ z_v - y_v \\quad \\forall v \\in V \\\\ \\quad  \\quad \\quad  \\quad \\quad \\quad \\quad \\quad \\quad \\alpha_v \\leq \\alpha_u + x_v + z_v \\quad \\forall (u,v) \\in E$</h3>\n",
    "\n",
    "**Sources:**\n",
    "\n",
    "[1] **A. Baggio, M. Carvalho, A. Lodi, A. Tramontani**, [\"Multilevel Approaches for the Critical Node Problem\"]( http://cerc-datascience.polymtl.ca/wp-content/uploads/2017/11/Technical-Report_DS4DM-2017-012.pdf), 2018."
   ]
  },
  {
   "cell_type": "markdown",
   "metadata": {},
   "source": [
    "# [OPTIONAL] Google colab: installing packages"
   ]
  },
  {
   "cell_type": "markdown",
   "metadata": {},
   "source": [
    "If this notebook is to be run on google colab, some extra steps should be taken to properly install the needed packages."
   ]
  },
  {
   "cell_type": "code",
   "execution_count": null,
   "metadata": {},
   "outputs": [],
   "source": []
  },
  {
   "cell_type": "markdown",
   "metadata": {},
   "source": [
    "# 1. Training the neural network to solve the MCN"
   ]
  },
  {
   "cell_type": "code",
   "execution_count": 1,
   "metadata": {},
   "outputs": [
    {
     "name": "stderr",
     "output_type": "stream",
     "text": [
      "L:\\Anaconda3\\lib\\site-packages\\h5py\\__init__.py:36: FutureWarning: Conversion of the second argument of issubdtype from `float` to `np.floating` is deprecated. In future, it will be treated as `np.float64 == np.dtype(float).type`.\n",
      "  from ._conv import register_converters as _register_converters\n"
     ]
    }
   ],
   "source": [
    "# Import the training function\n",
    "from MCN.MCN_curriculum.train import train_value_net"
   ]
  },
  {
   "cell_type": "markdown",
   "metadata": {},
   "source": [
    "### a) setting the variables governing the distribution of instances"
   ]
  },
  {
   "cell_type": "code",
   "execution_count": 2,
   "metadata": {},
   "outputs": [],
   "source": [
    "# n_free designs the number of nodes of the graph\n",
    "# that would be neither vaccinated, infected or attacked.\n",
    "# It governs the range of graph's sizes we are considering\n",
    "n_free_min = 4\n",
    "n_free_max = 10\n",
    "# Omega, Phi and Lambda are the budgets of the players\n",
    "# Phi_max should be >= 1, otherwise there is no MCN problem\n",
    "Omega_max = 1\n",
    "Phi_max = 2\n",
    "Lambda_max = 2"
   ]
  },
  {
   "cell_type": "markdown",
   "metadata": {},
   "source": [
    "### b) setting the hyperparameters of the neural network"
   ]
  },
  {
   "cell_type": "code",
   "execution_count": 3,
   "metadata": {},
   "outputs": [],
   "source": [
    "# h1 and h2 are the hidden dim sizes used throughout\n",
    "# the neural net's architecture.\n",
    "h1 = 128\n",
    "h2 = 64\n",
    "# the number of attention heads in the GAT\n",
    "n_heads = 3\n",
    "# the 'skip connection' parameter in the APPNP part\n",
    "alpha = 0.1"
   ]
  },
  {
   "cell_type": "markdown",
   "metadata": {},
   "source": [
    "### c) setting the parameters of the training algorithm"
   ]
  },
  {
   "cell_type": "code",
   "execution_count": 4,
   "metadata": {},
   "outputs": [],
   "source": [
    "# batch size used\n",
    "batch_size = 20\n",
    "# Replay Memory size\n",
    "memory_size = 256\n",
    "# Learning rate of the optimizer\n",
    "lr = 1e-4\n",
    "# betas parameters of the optimizer\n",
    "betas = (0.8,0.9)\n",
    "# Total number of episodes\n",
    "E = 120000\n",
    "# The period of checking whether the value net\n",
    "# under training should be saved as an expert\n",
    "target_update = 100\n",
    "# Value of loss under which a value net is considered\n",
    "# an expert for a task\n",
    "tolerance = 0.2\n",
    "# Size of the validation set for each task\n",
    "size_validation_data = 50\n",
    "# path to the directory to pre-trained target nets\n",
    "path_experts = \"\""
   ]
  },
  {
   "cell_type": "code",
   "execution_count": null,
   "metadata": {},
   "outputs": [],
   "source": [
    "# Train the neural network\n",
    "value_net, experts = train_value_net(batch_size, memory_size, lr, betas, E, target_update, h1, h2, n_heads, alpha,\n",
    "                                     tolerance, n_free_min, n_free_max, Omega_max, Phi_max, Lambda_max,\n",
    "                                     size_validation_data, path_experts)"
   ]
  },
  {
   "cell_type": "markdown",
   "metadata": {},
   "source": [
    "# 2. Using trained experts or an exact algorithm to solve an instance of MCN"
   ]
  },
  {
   "cell_type": "markdown",
   "metadata": {},
   "source": [
    "### a) Generating a random instance"
   ]
  },
  {
   "cell_type": "code",
   "execution_count": 5,
   "metadata": {},
   "outputs": [],
   "source": [
    "# import the function generating a random instance\n",
    "from MCN.utils import generate_random_instance, plot_graph"
   ]
  },
  {
   "cell_type": "code",
   "execution_count": 14,
   "metadata": {},
   "outputs": [
    {
     "data": {
      "image/png": "[encoded data removed]",
      "text/plain": [
       "<Figure size 360x360 with 1 Axes>"
      ]
     },
     "metadata": {},
     "output_type": "display_data"
    },
    {
     "name": "stdout",
     "output_type": "stream",
     "text": [
      "Already attacked nodes :  []\n",
      "Omega : 1 ,  Phi : 2 , Lambda : 1\n"
     ]
    }
   ],
   "source": [
    "G, J, Omega, Phi, Lambda = generate_random_instance(n_free_min, n_free_max, Omega_max, Phi_max, Lambda_max)\n",
    "# plots the graph\n",
    "plot_graph(G)\n",
    "# print the other parameters\n",
    "print(\"Already attacked nodes : \", J)\n",
    "print(\"Omega : %d ,  Phi : %d , Lambda : %d\"%(Omega, Phi, Lambda))"
   ]
  },
  {
   "cell_type": "markdown",
   "metadata": {},
   "source": [
    "### b) Solving the instance exactly"
   ]
  },
  {
   "cell_type": "code",
   "execution_count": 6,
   "metadata": {},
   "outputs": [],
   "source": [
    "# import the solver\n",
    "from MCN.solve_mcn import solve_mcn"
   ]
  },
  {
   "cell_type": "code",
   "execution_count": 16,
   "metadata": {},
   "outputs": [
    {
     "name": "stdout",
     "output_type": "stream",
     "text": [
      "number of saved nodes :  3\n",
      "Vaccinated nodes D:  [4]\n",
      "Attacked nodes I :  [1, 8]\n",
      "Protected nodes P : [7]\n"
     ]
    }
   ],
   "source": [
    "value, D, I, P = solve_mcn(G, Omega, Phi, Lambda, J=J, exact=True)\n",
    "# print the outputs\n",
    "print(\"number of saved nodes : \", value)\n",
    "print(\"Vaccinated nodes D: \", D)\n",
    "print(\"Attacked nodes I : \", I)\n",
    "print(\"Protected nodes P :\", P)"
   ]
  },
  {
   "cell_type": "markdown",
   "metadata": {},
   "source": [
    "### c) Solving the instance heuristically with pre-trained experts"
   ]
  },
  {
   "cell_type": "code",
   "execution_count": 7,
   "metadata": {},
   "outputs": [],
   "source": [
    "# import the ValueNet object\n",
    "from MCN.MCN_curriculum.value_nn import ValueNet\n",
    "# import the experts loader\n",
    "from MCN.utils import load_saved_experts"
   ]
  },
  {
   "cell_type": "code",
   "execution_count": 8,
   "metadata": {},
   "outputs": [],
   "source": [
    "# load the models\n",
    "list_experts = load_saved_experts(\"models/experts\")"
   ]
  },
  {
   "cell_type": "code",
   "execution_count": 19,
   "metadata": {},
   "outputs": [
    {
     "name": "stdout",
     "output_type": "stream",
     "text": [
      "number of saved nodes :  3.0\n",
      "Vaccinated nodes D:  [4]\n",
      "Attacked nodes I :  [8, 1]\n",
      "Protected nodes P : [10]\n"
     ]
    }
   ],
   "source": [
    "value, D, I, P = solve_mcn(G, Omega, Phi, Lambda, J=J,\n",
    "                           Omega_max=Omega_max, Phi_max=Phi_max, Lambda_max=Lambda_max,\n",
    "                           exact=False, list_experts=list_experts)\n",
    "# print the outputs\n",
    "# the expert nets outputs values that don't contain nodes bound to be saved\n",
    "# so we add the defender's budget back to the value\n",
    "print(\"number of saved nodes : \", value + Omega + Lambda)\n",
    "print(\"Vaccinated nodes D: \", D)\n",
    "print(\"Attacked nodes I : \", I)\n",
    "print(\"Protected nodes P :\", P)"
   ]
  },
  {
   "cell_type": "markdown",
   "metadata": {},
   "source": [
    "# 3. Test the performances of the heuristic"
   ]
  },
  {
   "cell_type": "markdown",
   "metadata": {},
   "source": [
    "### a) Generate a test set"
   ]
  },
  {
   "cell_type": "code",
   "execution_count": 9,
   "metadata": {},
   "outputs": [],
   "source": [
    "# import the generator\n",
    "from MCN.test_performances.optimality_gap import generate_test_set"
   ]
  },
  {
   "cell_type": "code",
   "execution_count": 10,
   "metadata": {},
   "outputs": [
    {
     "name": "stdout",
     "output_type": "stream",
     "text": [
      "==========================================================================\n",
      "Generates the test set... \n",
      "\n"
     ]
    },
    {
     "name": "stderr",
     "output_type": "stream",
     "text": [
      "100%|████████████████████████████████████████████████████████████████████████████████████| 5/5 [01:46<00:00, 25.45s/it]\n"
     ]
    }
   ],
   "source": [
    "# create a test set named \"test_set.gz\" in the directory given (creates it if not existing)\n",
    "generate_test_set(n_free_min, n_free_max, Omega_max, Phi_max, Lambda_max, size_test_set=1000, directory_path='test_set')"
   ]
  },
  {
   "cell_type": "markdown",
   "metadata": {},
   "source": [
    "### b) Compute the optimality gap of the heuristic"
   ]
  },
  {
   "cell_type": "markdown",
   "metadata": {},
   "source": [
    "Formula applied to compute the optimality gap:\n",
    "<h3 align=\"center\"> $ \\dfrac{\\sum_i |value_i^{true} - value_i^{heur}|}{\\sum_i value_i^{true}}$</h3>"
   ]
  },
  {
   "cell_type": "code",
   "execution_count": 11,
   "metadata": {},
   "outputs": [],
   "source": [
    "# import the fonction that tests that\n",
    "from MCN.test_performances.optimality_gap import compute_optimality_gap"
   ]
  },
  {
   "cell_type": "code",
   "execution_count": 12,
   "metadata": {},
   "outputs": [
    {
     "name": "stdout",
     "output_type": "stream",
     "text": [
      "==========================================================================\n",
      "Computing the values using the heuristic... \n",
      "\n"
     ]
    },
    {
     "name": "stderr",
     "output_type": "stream",
     "text": [
      "100%|████████████████████████████████████████████████████████████████████████████████████| 5/5 [02:41<00:00, 34.48s/it]\n"
     ]
    }
   ],
   "source": [
    "og_budget, og_player = compute_optimality_gap(Omega_max, Phi_max, Lambda_max,\n",
    "                                              list_experts=list_experts, path_test_set=\"test_set/test_set.gz\")"
   ]
  },
  {
   "cell_type": "code",
   "execution_count": 16,
   "metadata": {},
   "outputs": [
    {
     "name": "stdout",
     "output_type": "stream",
     "text": [
      "optimality gap for instances with budget Omega = 0, Phi = 0 , Lambda = 1 : 0.000000\n",
      "optimality gap for instances with budget Omega = 0, Phi = 0 , Lambda = 2 : 0.003353\n",
      "optimality gap for instances with budget Omega = 0, Phi = 1 , Lambda \\in [0, 2] : 0.003190\n",
      "optimality gap for instances with budget Omega = 0, Phi = 2 , Lambda \\in [0, 2] : 0.022444\n",
      "optimality gap for instances with budget Omega = 1, Phi \\in [1, 2] , Lambda \\in [0, 2] : 0.037778\n"
     ]
    }
   ],
   "source": [
    "for k in range(Omega_max + Phi_max + Lambda_max):\n",
    "    budget = k + 1\n",
    "    if budget <= Lambda_max:\n",
    "        print(\"optimality gap for instances with budget Omega = 0, Phi = 0 , Lambda = %d : %f\"%(budget, og_budget[k]))\n",
    "    elif budget <= Lambda_max + Phi_max:\n",
    "        print(\"optimality gap for instances with budget Omega = 0, Phi = %d , Lambda \\in [0, %d] : %f\"%(budget - Lambda_max, Lambda_max, og_budget[k]))\n",
    "    elif budget > Lambda_max + Phi_max:\n",
    "        print(\"optimality gap for instances with budget Omega = %d, Phi \\in [1, %d] , Lambda \\in [0, %d] : %f\"%(budget - Lambda_max - Phi_max, Phi_max, Lambda_max, og_budget[k]))"
   ]
  },
  {
   "cell_type": "code",
   "execution_count": 17,
   "metadata": {},
   "outputs": [
    {
     "name": "stdout",
     "output_type": "stream",
     "text": [
      "optimality gap for the vaccinator :  0.03777777777777778\n",
      "optimality gap for the attacker :  0.010700389105058366\n",
      "optimality gap for the protector :  0.002171552660152009\n"
     ]
    }
   ],
   "source": [
    "print(\"optimality gap for the vaccinator : \", og_player[0])\n",
    "print(\"optimality gap for the attacker : \", og_player[1])\n",
    "print(\"optimality gap for the protector : \", og_player[2])"
   ]
  },
  {
   "cell_type": "code",
   "execution_count": null,
   "metadata": {},
   "outputs": [],
   "source": []
  }
 ],
 "metadata": {
  "kernelspec": {
   "display_name": "Python 3",
   "language": "python",
   "name": "python3"
  },
  "language_info": {
   "codemirror_mode": {
    "name": "ipython",
    "version": 3
   },
   "file_extension": ".py",
   "mimetype": "text/x-python",
   "name": "python",
   "nbconvert_exporter": "python",
   "pygments_lexer": "ipython3",
   "version": "3.6.5"
  }
 },
 "nbformat": 4,
 "nbformat_minor": 2
}
